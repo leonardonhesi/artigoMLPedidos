{
 "cells": [
  {
   "cell_type": "code",
   "execution_count": 1,
   "metadata": {},
   "outputs": [],
   "source": [
    "import pandas            as pd\n",
    "import numpy             as np\n",
    "import joblib            as jb\n",
    "import pandas            as pd\n",
    "import json \n",
    "from sklearn.ensemble                import RandomForestClassifier\n",
    "from sklearn.model_selection         import train_test_split\n",
    "from lightgbm                        import LGBMClassifier\n",
    "from sklearn.neighbors               import KNeighborsClassifier"
   ]
  },
  {
   "cell_type": "markdown",
   "metadata": {},
   "source": [
    "# Carregar os modelos"
   ]
  },
  {
   "cell_type": "code",
   "execution_count": 2,
   "metadata": {},
   "outputs": [],
   "source": [
    "# Modelos Treinados\n",
    "mdl_lgbm   = jb.load(\"modelos_treinados/LGBM/lgbm.pkl.z\")\n",
    "mdl_rf     = jb.load(\"modelos_treinados/randomForest/random_forest.pkl.z\")\n",
    "gnb        = jb.load(\"modelos_treinados/naiveBayes/naiveBayes.pkl.z\")\n",
    "knn        = jb.load(\"modelos_treinados/KNN/knn.pkl.z\")\n",
    "svm        = jb.load(\"modelos_treinados/SVM/SVM.pkl.z\")\n"
   ]
  },
  {
   "cell_type": "code",
   "execution_count": 3,
   "metadata": {},
   "outputs": [],
   "source": [
    "# Mapa para obter codigo do estado\n",
    "estado = {'RO': 11,'AC': 12,'AM': 13,'RR': 14,'PA': 15,'AP': 16,'TO': 17,\n",
    "'MA': 21,'PI': 22,'CE': 23,'RN': 24,'PB': 25,'PE': 26,'AL': 27,'SE': 28,\n",
    "'BA': 29,'MG': 31,'ES': 32,'RJ': 33,'SP': 35,'PR': 41, 'SC': 42, 'RS': 43,\n",
    "'MS': 50, 'MT': 51, 'GO': 52, 'DF': 53 }"
   ]
  },
  {
   "cell_type": "code",
   "execution_count": 4,
   "metadata": {},
   "outputs": [],
   "source": [
    "# Tranforma o objeto Json, preparando os dados da mesma forma\n",
    "# da etapa de preparação dos dados criando o array na mesma ordem.\n",
    "def prepArr(ojs):\n",
    "    # Trataiva estado igual a realizada nas etapas iniciais\n",
    "    uf = estado.get(ojs['UF'], \"\")\n",
    "    # Mesmo objeto Json vindo com Frete, de acordo com as definiçoes das features\n",
    "    # ele deve ser removido\n",
    "    return np.array([[uf,\n",
    "                      ojs['VALOR'],\n",
    "                      ojs['DESCONTO'],\n",
    "                      ojs['COND_PAGTO'],\n",
    "                      ojs['CONTROLE'],\n",
    "                      ojs['PERC']]])"
   ]
  },
  {
   "cell_type": "code",
   "execution_count": 5,
   "metadata": {},
   "outputs": [],
   "source": [
    "def adivinha(feature_array):\n",
    "    p_rf   = mdl_rf.predict_proba(feature_array)[0][1]\n",
    "    p_lgbm = mdl_lgbm.predict_proba(feature_array)[0][1]\n",
    "    p_knn  = knn.predict_proba(feature_array)[0][1]\n",
    "    p_nb   = gnb.predict_proba(feature_array)[0][1]\n",
    "    p_svm  = svm.predict(feature_array)[0]\n",
    "    pMed = (p_rf + p_lgbm + p_knn + p_svm  ) / 4\n",
    "    resultado = dict()\n",
    "    if (pMed > 0.70):\n",
    "        resultado['status'] = 'PEDIDO_APROVADO'\n",
    "    else:\n",
    "        resultado['status'] = 'PEDIDO_REJEITADO'\n",
    "    resultado['KNN']        = p_knn \n",
    "    resultado['RF']         = p_rf\n",
    "    resultado['LGBM']       = p_lgbm\n",
    "    resultado['NB']         = p_nb\n",
    "    resultado['SVM']        = p_svm\n",
    "    resultado['GERAL']      = pMed\n",
    "    return resultado"
   ]
  },
  {
   "cell_type": "markdown",
   "metadata": {},
   "source": [
    "# Execução Individual"
   ]
  },
  {
   "cell_type": "code",
   "execution_count": 6,
   "metadata": {},
   "outputs": [
    {
     "name": "stdout",
     "output_type": "stream",
     "text": [
      "{'status': 'PEDIDO_APROVADO', 'KNN': 1.0, 'RF': 0.9028530340759305, 'LGBM': 0.9719751759685603, 'NB': 0.9821006302696872, 'SVM': 1, 'GERAL': 0.9687070525111228}\n",
      "{'status': 'PEDIDO_APROVADO', 'KNN': 0.8336120719003661, 'RF': 0.4808620363820626, 'LGBM': 0.5243102338680246, 'NB': 0.9803615908435127, 'SVM': 1, 'GERAL': 0.7096960855376133}\n",
      "{'status': 'PEDIDO_REJEITADO', 'KNN': 0.6923570566841628, 'RF': 0.4714842561768418, 'LGBM': 0.45577644872438977, 'NB': 0.9825485886534482, 'SVM': 1, 'GERAL': 0.6549044403963487}\n"
     ]
    }
   ],
   "source": [
    "# Dados removidos do DataSet de Treino\n",
    "ojsAprova = {'UF': 'RS',\n",
    "       'FRETE': 'C',\n",
    "       'CONTROLE': 12.86,\n",
    "       'PERC': 0.0,\n",
    "       'DESCONTO': 46.77,\n",
    "       'COND_PAGTO': 35.0,\n",
    "       'VALOR': 22669.27}\n",
    "# Dados Totalmente novo\n",
    "ojsNew = {'UF': 'SP',\n",
    "       'FRETE': 'C',\n",
    "       'CONTROLE': -7.169373,\n",
    "       'PERC': 85.714286,\n",
    "       'DESCONTO': 59.423868,\n",
    "       'COND_PAGTO': 38.5,\n",
    "       'VALOR': 3320}\n",
    "\n",
    "# Variação do aprovado, continua aprovado se mudar o desco\n",
    "# de 46.77 subir para 140.00\n",
    "ojsAprovaVar = {'UF': 'CE',\n",
    "       'FRETE': 'C',\n",
    "       'CONTROLE': 12.86,\n",
    "       'PERC': 0.0,\n",
    "       'DESCONTO': 140.00,\n",
    "       'COND_PAGTO': 35.0,\n",
    "       'VALOR': 22669.27}\n",
    "\n",
    "print(adivinha(prepArr(ojsAprova)))\n",
    "print(adivinha(prepArr(ojsNew)))\n",
    "print(adivinha(prepArr(ojsAprovaVar)))"
   ]
  },
  {
   "cell_type": "code",
   "execution_count": null,
   "metadata": {},
   "outputs": [],
   "source": []
  }
 ],
 "metadata": {
  "kernelspec": {
   "display_name": "Python 3",
   "language": "python",
   "name": "python3"
  },
  "language_info": {
   "codemirror_mode": {
    "name": "ipython",
    "version": 3
   },
   "file_extension": ".py",
   "mimetype": "text/x-python",
   "name": "python",
   "nbconvert_exporter": "python",
   "pygments_lexer": "ipython3",
   "version": "3.7.6"
  }
 },
 "nbformat": 4,
 "nbformat_minor": 2
}
