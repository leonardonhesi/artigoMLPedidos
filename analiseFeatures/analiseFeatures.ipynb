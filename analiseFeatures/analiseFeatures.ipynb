{
 "cells": [
  {
   "cell_type": "code",
   "execution_count": null,
   "metadata": {},
   "outputs": [],
   "source": [
    "import pandas            as pd\n",
    "import numpy             as np\n",
    "import matplotlib.pyplot as plt\n",
    "import joblib            as jb\n",
    "import seaborn           as sns\n",
    "\n",
    "from sklearn.feature_selection        import RFE\n",
    "from sklearn.feature_selection        import VarianceThreshold\n",
    "from sklearn.preprocessing            import MinMaxScaler\n",
    "\n",
    "from lightgbm                         import LGBMClassifier\n",
    "from sklearn.ensemble                 import RandomForestClassifier\n",
    "\n",
    "%matplotlib inline"
   ]
  },
  {
   "cell_type": "markdown",
   "metadata": {},
   "source": [
    "## Carregar dataset preparado e divido"
   ]
  },
  {
   "cell_type": "code",
   "execution_count": null,
   "metadata": {},
   "outputs": [],
   "source": [
    "X_train             = jb.load(\"../dados/treino/X_train.pkl.z\")\n",
    "y_train             = jb.load(\"../dados/treino/y_train.pkl.z\")\n",
    "X_test              = jb.load(\"../dados/teste/X_teste.pkl.z\")\n",
    "y_test              = jb.load(\"../dados/teste/y_teste.pkl.z\")"
   ]
  },
  {
   "cell_type": "code",
   "execution_count": null,
   "metadata": {},
   "outputs": [],
   "source": [
    "print(X_train.head())\n",
    "print(y_train.head())\n",
    "colnames = X_train.columns\n",
    "print(colnames)"
   ]
  },
  {
   "cell_type": "code",
   "execution_count": null,
   "metadata": {},
   "outputs": [],
   "source": [
    "# Tratar o rank das melhores features\n",
    "ranks = {}\n",
    "def ranking(ranks, names, order=1):\n",
    "    minmax = MinMaxScaler()\n",
    "    ranks = minmax.fit_transform(order*np.array([ranks]).T).T[0]\n",
    "    ranks = map(lambda x: round(x,2), ranks)\n",
    "    return dict(zip(names, ranks))"
   ]
  },
  {
   "cell_type": "markdown",
   "metadata": {},
   "source": [
    "## Verifica melhores features para LGBM"
   ]
  },
  {
   "cell_type": "code",
   "execution_count": null,
   "metadata": {},
   "outputs": [],
   "source": [
    "# Iniciando o objeto (Recursive Feature Elimination) e definindo qual modelo\n",
    "# será utilizado \n",
    "rfe = RFE(LGBMClassifier(), step=1)\n",
    "\n",
    "# Utilizando os DataSet de treino inicia o processo de treino \n",
    "# e eliminação de features \n",
    "fit = rfe.fit(X_train, y_train)\n",
    "\n",
    "# Submete a função previamente criada para gravar o ranking das features \n",
    "# para este modelo. \n",
    "ranks[\"LGBM\"] = ranking(list(map(float, rfe.ranking_)), colnames, order=-1)\n",
    "\n",
    "# Exibe o score das features\n",
    "print('Ranking ', ranks)"
   ]
  },
  {
   "cell_type": "markdown",
   "metadata": {},
   "source": [
    "## Verifica melhores features para RF"
   ]
  },
  {
   "cell_type": "code",
   "execution_count": null,
   "metadata": {},
   "outputs": [],
   "source": [
    "# Random Forest\n",
    "mdl_rf = RandomForestClassifier(n_estimators=2000, random_state=2,max_depth=64,\n",
    "                                min_samples_leaf=10, class_weight=\"balanced\", n_jobs=6,\n",
    "                               min_samples_split=200)"
   ]
  },
  {
   "cell_type": "code",
   "execution_count": null,
   "metadata": {},
   "outputs": [],
   "source": [
    "rfe = RFE(RandomForestClassifier(), step=1)\n",
    "fit = rfe.fit(X_train, y_train)\n",
    "ranks[\"RF\"] = ranking(list(map(float, rfe.ranking_)), colnames, order=-1)\n",
    "print('Ranking RF ', ranks[\"RF\"])\n",
    "print('Todos Rankins ', ranks)"
   ]
  },
  {
   "cell_type": "markdown",
   "metadata": {},
   "source": [
    "## Formatar a exibição das médias das features"
   ]
  },
  {
   "cell_type": "code",
   "execution_count": null,
   "metadata": {},
   "outputs": [],
   "source": [
    "r = {}\n",
    "for name in colnames:\n",
    "    r[name] = round(np.mean([ranks[method][name] \n",
    "                             for method in ranks.keys()]), 2)\n",
    " \n",
    "methods = sorted(ranks.keys())\n",
    "ranks[\"Media\"] = r\n",
    "methods.append(\"Media\")\n",
    " \n",
    "print(\"\\t%s\" % \"\\t\".join(methods))\n",
    "for name in colnames:\n",
    "    print(\"%s\\t%s\" % (name, \"\\t\".join(map(str, \n",
    "                         [ranks[method][name] for method in methods]))))"
   ]
  },
  {
   "cell_type": "markdown",
   "metadata": {},
   "source": [
    "## Exibição do Gráfico (ranking das features)"
   ]
  },
  {
   "cell_type": "code",
   "execution_count": null,
   "metadata": {},
   "outputs": [],
   "source": [
    "meanplot = pd.DataFrame(list(r.items()), columns= ['Feature','Ranking Media'])\n",
    "meanplot = meanplot.sort_values('Ranking Media', ascending=False)\n",
    "# sns.set(rc={'axes.facecolor':'white', 'figure.facecolor':'white'})\n",
    "sns.catplot(x=\"Ranking Media\", y=\"Feature\", data = meanplot, kind=\"bar\", \n",
    "               height=14, aspect=1.9, palette='coolwarm')"
   ]
  },
  {
   "cell_type": "markdown",
   "metadata": {},
   "source": [
    "# Variance Threshold"
   ]
  },
  {
   "cell_type": "code",
   "execution_count": null,
   "metadata": {},
   "outputs": [],
   "source": [
    "# Outra forma de analisar features, sempre precisar dos modelos\n",
    "selection = VarianceThreshold(threshold=0.150)\n",
    "X_new = selection.fit_transform(X_train)\n",
    "index = np.where(selection.variances_ > 0.150)\n",
    "for i in range(len(selection.variances_)):\n",
    "    print(colnames[i], selection.variances_[i])\n",
    "print('Colunas Escolhidas', colnames[index])\n",
    "print('Todas as colunas ', colnames)"
   ]
  },
  {
   "cell_type": "code",
   "execution_count": null,
   "metadata": {},
   "outputs": [],
   "source": [
    "# Remover as features menos significativas\n",
    "dropFeature = ['FRETE']\n",
    "X_train = X_train.drop(dropFeature, axis=1)\n",
    "X_test  = X_test.drop(dropFeature, axis=1)\n",
    "\n",
    "# X_train.head()\n",
    "X_test.head()"
   ]
  },
  {
   "cell_type": "code",
   "execution_count": null,
   "metadata": {},
   "outputs": [],
   "source": [
    "# Gravar dataset com as melhores features\n",
    "jb.dump(X_train   , \"../dados/treino/X_trainFinal.pkl.z\")\n",
    "jb.dump(y_train   , \"../dados/treino/y_trainFinal.pkl.z\")\n",
    "jb.dump(X_test   , \"../dados/teste/X_testeFinal.pkl.z\")\n",
    "jb.dump(y_test   , \"../dados/teste/y_testeFinal.pkl.z\")"
   ]
  },
  {
   "cell_type": "code",
   "execution_count": null,
   "metadata": {},
   "outputs": [],
   "source": []
  }
 ],
 "metadata": {
  "kernelspec": {
   "display_name": "Python 3",
   "language": "python",
   "name": "python3"
  },
  "language_info": {
   "codemirror_mode": {
    "name": "ipython",
    "version": 3
   },
   "file_extension": ".py",
   "mimetype": "text/x-python",
   "name": "python",
   "nbconvert_exporter": "python",
   "pygments_lexer": "ipython3",
   "version": "3.7.6"
  }
 },
 "nbformat": 4,
 "nbformat_minor": 4
}
